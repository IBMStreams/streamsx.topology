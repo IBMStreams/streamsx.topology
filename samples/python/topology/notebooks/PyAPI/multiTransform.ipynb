{
 "cells": [
  {
   "cell_type": "code",
   "execution_count": null,
   "metadata": {
    "collapsed": true
   },
   "outputs": [],
   "source": [
    "from multitransform_functions import TweetSource, HashTags\n",
    "from streamsx.topology.topology import Topology\n",
    "from streamsx.topology import context"
   ]
  },
  {
   "cell_type": "code",
   "execution_count": null,
   "metadata": {
    "collapsed": false,
    "scrolled": true
   },
   "outputs": [],
   "source": [
    "top = Topology(\"myTop\")\n",
    "\n",
    "tweet_source_operator = TweetSource()\n",
    "hash_tag_operator = HashTags()\n",
    "\n",
    "tweets = top.source(tweet_source_operator)\n",
    "\n",
    "hashtags = tweets.multi_transform(hash_tag_operator)\n",
    "hashtags.print()\n",
    "context.submit(\"STANDALONE\", top.graph)"
   ]
  },
  {
   "cell_type": "code",
   "execution_count": null,
   "metadata": {
    "collapsed": true
   },
   "outputs": [],
   "source": []
  }
 ],
 "metadata": {
  "anaconda-cloud": {},
  "kernelspec": {
   "display_name": "Python [Root]",
   "language": "python",
   "name": "Python [Root]"
  },
  "language_info": {
   "codemirror_mode": {
    "name": "ipython",
    "version": 3
   },
   "file_extension": ".py",
   "mimetype": "text/x-python",
   "name": "python",
   "nbconvert_exporter": "python",
   "pygments_lexer": "ipython3",
   "version": "3.5.1"
  }
 },
 "nbformat": 4,
 "nbformat_minor": 0
}
