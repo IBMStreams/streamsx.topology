{
 "cells": [
  {
   "cell_type": "markdown",
   "metadata": {},
   "source": [
    "# Temperature Vs. Probability of Failure"
   ]
  },
  {
   "cell_type": "code",
   "execution_count": null,
   "metadata": {
    "collapsed": false,
    "scrolled": true
   },
   "outputs": [],
   "source": [
    "%matplotlib inline\n",
    "%matplotlib notebook\n",
    "\n",
    "import numpy as np, math\n",
    "import matplotlib.pyplot as plt\n",
    "\n",
    "# Create sample dataset\n",
    "xvalues = np.linspace(20,100, 100)\n",
    "yvalues = np.array([((np.cos((x-50)/100)*100 + np.sin(x/100)*100 + np.random.normal(0, 13, 1)[0])/150.0) for x in xvalues])\n",
    "ymin = np.amin(yvalues)\n",
    "yvalues = [y - ymin for y in yvalues]\n",
    "\n",
    "# Plot dataset\n",
    "fig0, ax0 = plt.subplots()\n",
    "plt.title(\"Engine Temp Vs. Probability of Failure\")\n",
    "plt.ylabel(\"Probability of Failure\")\n",
    "plt.xlabel(\"Engine Temp in Degrees Celcius\")\n",
    "ax0.plot(xvalues,\n",
    "        yvalues, \"ro\", linewidth = 2, color = 'red', label = 'target')\n",
    "ax0.set_xlim(20, 100)\n",
    "ax0.set_ylim(0, 1)\n"
   ]
  },
  {
   "cell_type": "markdown",
   "metadata": {},
   "source": [
    "# Build a Model to Fit The Data"
   ]
  },
  {
   "cell_type": "code",
   "execution_count": null,
   "metadata": {
    "collapsed": false,
    "scrolled": false
   },
   "outputs": [],
   "source": [
    "%matplotlib inline\n",
    "%matplotlib notebook\n",
    "\n",
    "#----------\n",
    "# build the dataset\n",
    "#----------\n",
    "from pybrain.datasets import SupervisedDataSet\n",
    "import numpy as np, math\n",
    "from nn_utils import train_nn\n",
    "\n",
    "ds = SupervisedDataSet(1, 1)\n",
    "for x, y in zip(xvalues, yvalues):\n",
    "    ds.addSample((x,), (y,))\n",
    "\n",
    "#----------\n",
    "# build the network\n",
    "#----------\n",
    "net = train_nn(xvalues, yvalues, rate=0.0001, layers = [100,100,100], batch=False, magnification=0.0, iterations = 50)\n",
    "    "
   ]
  },
  {
   "cell_type": "markdown",
   "metadata": {},
   "source": [
    "# Use Model In Realtime Streaming Application"
   ]
  },
  {
   "cell_type": "code",
   "execution_count": null,
   "metadata": {
    "collapsed": false,
    "scrolled": true
   },
   "outputs": [],
   "source": [
    "from streamsx.topology.topology import Topology\n",
    "from my_module import array_yielder, neural_net_model\n",
    "from streamsx.topology import context\n",
    "from jupyter_utilities import get_next_line, graph_from_outstream\n",
    "import time, sys\n",
    "import matplotlib.pyplot as plt\n",
    "import random\n",
    "\n",
    "# Define test data\n",
    "xdata_raw = [random.uniform(0,100) for x in range(100)]\n",
    "\n",
    "# Define operators\n",
    "ay = array_yielder(xdata_raw)\n",
    "nnm = neural_net_model(net)\n",
    "\n",
    "# Build Graph\n",
    "top = Topology(\"myTop\")\n",
    "stream_ = top.source(ay)\n",
    "stream_.transform(nnm).print()\n",
    "# Submit\n",
    "out= context.submit(\"JUPYTER\", top.graph)\n",
    "\n",
    "graph_from_outstream(out, xdata_raw, 20, 100, 0, 1)"
   ]
  },
  {
   "cell_type": "code",
   "execution_count": null,
   "metadata": {
    "collapsed": true
   },
   "outputs": [],
   "source": []
  }
 ],
 "metadata": {
  "anaconda-cloud": {},
  "kernelspec": {
   "display_name": "Python [Root]",
   "language": "python",
   "name": "Python [Root]"
  },
  "language_info": {
   "codemirror_mode": {
    "name": "ipython",
    "version": 3
   },
   "file_extension": ".py",
   "mimetype": "text/x-python",
   "name": "python",
   "nbconvert_exporter": "python",
   "pygments_lexer": "ipython3",
   "version": "3.5.1"
  }
 },
 "nbformat": 4,
 "nbformat_minor": 0
}
