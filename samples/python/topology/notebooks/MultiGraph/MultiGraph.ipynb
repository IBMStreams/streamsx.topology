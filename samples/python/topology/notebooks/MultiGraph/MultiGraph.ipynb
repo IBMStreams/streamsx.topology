{
 "cells": [
  {
   "cell_type": "markdown",
   "metadata": {},
   "source": [
    "## MultiGraph\n",
    "Create 3 views:\n",
    "* A view on a randomly generated stock price\n",
    "* A view on a moving average of the last 50 stock prices\n",
    "* A view on a moving average of the last 150 stock prices"
   ]
  },
  {
   "cell_type": "code",
   "execution_count": null,
   "metadata": {
    "collapsed": true
   },
   "outputs": [],
   "source": [
    "from streamsx.topology.topology import Topology\n",
    "from streamsx.topology import context\n",
    "from some_module import jsonRandomWalk, movingAverage\n",
    "#from streamsx import rest\n",
    "import json"
   ]
  },
  {
   "cell_type": "markdown",
   "metadata": {},
   "source": [
    "## Code which defines streaming data sources"
   ]
  },
  {
   "cell_type": "code",
   "execution_count": null,
   "metadata": {
    "collapsed": true
   },
   "outputs": [],
   "source": [
    "# Define operators\n",
    "rw = jsonRandomWalk()\n",
    "ma_150 = movingAverage(150)\n",
    "ma_50 = movingAverage(50)\n",
    "\n",
    "# Define topology & submit\n",
    "top = Topology(\"myTop\")\n",
    "ticker_price = top.source(rw)\n",
    "ma_150_stream = ticker_price.map(ma_150)\n",
    "ma_50_stream = ticker_price.map(ma_50)"
   ]
  },
  {
   "cell_type": "markdown",
   "metadata": {},
   "source": [
    "## Code the user can supply to view the streaming data "
   ]
  },
  {
   "cell_type": "code",
   "execution_count": null,
   "metadata": {
    "collapsed": false
   },
   "outputs": [],
   "source": [
    "ticker_view = ticker_price.view()\n",
    "ma_150_view = ma_150_stream.view()\n",
    "ma_50_view = ma_50_stream.view()"
   ]
  },
  {
   "cell_type": "markdown",
   "metadata": {},
   "source": [
    "## Submit To Distributed Streams Install"
   ]
  },
  {
   "cell_type": "code",
   "execution_count": null,
   "metadata": {
    "collapsed": false,
    "scrolled": true
   },
   "outputs": [],
   "source": [
    "context.submit(\"DISTRIBUTED\", top.graph, username = \"streamsadmin\", password = \"passw0rd\")"
   ]
  },
  {
   "cell_type": "markdown",
   "metadata": {},
   "source": [
    "## Create List of The Views"
   ]
  },
  {
   "cell_type": "code",
   "execution_count": null,
   "metadata": {
    "collapsed": false
   },
   "outputs": [],
   "source": [
    "l = [ticker_view, ma_150_view, ma_50_view]"
   ]
  },
  {
   "cell_type": "markdown",
   "metadata": {},
   "source": [
    "## Graph The Stock Price & Moving Averages"
   ]
  },
  {
   "cell_type": "code",
   "execution_count": null,
   "metadata": {
    "collapsed": false
   },
   "outputs": [],
   "source": [
    "%matplotlib inline\n",
    "%matplotlib notebook\n",
    "from streamsx.rest import multi_graph_every\n",
    "multi_graph_every(l, 'val', 1.0)"
   ]
  },
  {
   "cell_type": "code",
   "execution_count": null,
   "metadata": {
    "collapsed": true
   },
   "outputs": [],
   "source": []
  }
 ],
 "metadata": {
  "anaconda-cloud": {},
  "kernelspec": {
   "display_name": "Python [Root]",
   "language": "python",
   "name": "Python [Root]"
  },
  "language_info": {
   "codemirror_mode": {
    "name": "ipython",
    "version": 3
   },
   "file_extension": ".py",
   "mimetype": "text/x-python",
   "name": "python",
   "nbconvert_exporter": "python",
   "pygments_lexer": "ipython3",
   "version": "3.5.1"
  }
 },
 "nbformat": 4,
 "nbformat_minor": 0
}
